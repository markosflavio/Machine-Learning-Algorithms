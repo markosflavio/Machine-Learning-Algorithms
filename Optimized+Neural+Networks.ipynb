{
 "cells": [
  {
   "cell_type": "markdown",
   "metadata": {},
   "source": [
    "# Optimized Neural Networks with Tensorflow\n",
    "<p class='lead'>\n",
    "Author: Oliveira, Markos F. B. G.<br />\n",
    "</p>\n",
    "\n",
    "# Description\n",
    "\n",
    "This document is based on Chapter 11 content of Geron's book *Hands-On Machine Learning with Scikit-Learn & TensorFlow*. It covers only the basics of the related topics and it's not meant to be a tutorial. Please, refer to the referenced book and scikit-learn/tensorflow online documentation for specific information.\n",
    "\n",
    "In paticular, this notebook provides an example of applying neural networks using Tensorflow on MNIST classification data.\n",
    "\n",
    "The algorithm that minimizes the cost function is a plain stochastic gradient descent with mean squared error. An automatic search for good hyperparameters is not implemented, nor ensemble methods are used. However, it employs a naive implementation of early stopping."
   ]
  },
  {
   "cell_type": "code",
   "execution_count": 3,
   "metadata": {
    "collapsed": true
   },
   "outputs": [],
   "source": [
    "import tensorflow as tf\n",
    "from sklearn.datasets import fetch_california_housing\n",
    "from sklearn.preprocessing import StandardScaler\n",
    "import numpy as np\n",
    "from datetime import datetime\n",
    "import time\n",
    "from sklearn.metrics import accuracy_score\n",
    "from sklearn.model_selection import train_test_split\n",
    "import matplotlib.pyplot as plt\n",
    "%matplotlib inline"
   ]
  },
  {
   "cell_type": "markdown",
   "metadata": {},
   "source": [
    "### Loading the dataset"
   ]
  },
  {
   "cell_type": "markdown",
   "metadata": {},
   "source": [
    "From TF dataset repository it's possible to load MNIST data. From the average values of mean and standard deviation it's probable that the digits in the test and validation sets came from same distribution of the training set. It would be possible to check if there are differences in the distributions of the digits between the datasets."
   ]
  },
  {
   "cell_type": "code",
   "execution_count": 4,
   "metadata": {
    "collapsed": false
   },
   "outputs": [
    {
     "name": "stdout",
     "output_type": "stream",
     "text": [
      "Extracting /tmp/data/train-images-idx3-ubyte.gz\n",
      "Extracting /tmp/data/train-labels-idx1-ubyte.gz\n",
      "Extracting /tmp/data/t10k-images-idx3-ubyte.gz\n",
      "Extracting /tmp/data/t10k-labels-idx1-ubyte.gz\n",
      "\n",
      "Training data shape: inputs  (55000, 784) outputs (55000,)\n",
      "Validation data shape: inputs  (5000, 784) outputs (5000,)\n",
      "Test data shape: inputs  (10000, 784) outputs (10000,)\n",
      "\n",
      "Average value of the mean of all 784 features in training set: 0.130702\n",
      "Average value of the mean of all 784 features in validation set: 0.130223\n",
      "Average value of the mean of all 784 features in test set: 0.132516\n",
      "Average value of the standard deviation of all 784 features in training set: 0.193211\n",
      "Average value of the standard deviation of all 784 features in validation set: 0.192845\n",
      "Average value of the standard deviation of all 784 features in test set: 0.192418\n"
     ]
    },
    {
     "data": {
      "image/png": "[encoded data removed]",
      "text/plain": [
       "<matplotlib.figure.Figure at 0x2d245d42710>"
      ]
     },
     "metadata": {},
     "output_type": "display_data"
    }
   ],
   "source": [
    "from tensorflow.examples.tutorials.mnist import input_data\n",
    "\n",
    "#Downloading and extracting the data\n",
    "mnist = input_data.read_data_sets(\"/tmp/data/\")\n",
    "\n",
    "#Fetching the data\n",
    "X_train = mnist.train.images\n",
    "X_val = mnist.validation.images\n",
    "X_test = mnist.test.images\n",
    "y_train = mnist.train.labels.astype(\"int\")\n",
    "y_val = mnist.validation.labels.astype(\"int\")\n",
    "y_test = mnist.test.labels.astype(\"int\")\n",
    "\n",
    "#Changing the outputs to 2d-arrays:\n",
    "#y_train = y_train.reshape(-1, 1)\n",
    "#y_val = y_val.reshape(-1, 1)\n",
    "#y_test = y_test.reshape(-1, 1)\n",
    "print('\\nTraining data shape: inputs ', X_train.shape, 'outputs', y_train.shape)\n",
    "print('Validation data shape: inputs ', X_val.shape, 'outputs', y_val.shape)\n",
    "print('Test data shape: inputs ', X_test.shape, 'outputs', y_test.shape)\n",
    "\n",
    "#Prining mean/std info\n",
    "print('\\nAverage value of the mean of all 784 features in training set:', np.mean(X_train.mean(axis=0)))\n",
    "print('Average value of the mean of all 784 features in validation set:', np.mean(X_val.mean(axis=0)))\n",
    "print('Average value of the mean of all 784 features in test set:', np.mean(X_test.mean(axis=0)))\n",
    "print('Average value of the standard deviation of all 784 features in training set:', np.mean(X_train.std(axis=0)))\n",
    "print('Average value of the standard deviation of all 784 features in validation set:', np.mean(X_val.std(axis=0)))\n",
    "print('Average value of the standard deviation of all 784 features in test set:', np.mean(X_test.std(axis=0)))\n",
    "\n",
    "#Plotting the histograms of the mean feature values\n",
    "fig, axes = plt.subplots(1, 3, figsize=(10, 5))\n",
    "ax = axes.ravel()\n",
    "ax[0].hist(X_train.mean(axis=0), bins=50, color='b', alpha=.5)\n",
    "ax[0].set_title('Training set average feature values')\n",
    "ax[1].hist(X_val.mean(axis=0), bins=50, color='b', alpha=.5)\n",
    "ax[1].set_title('Validation set average feature values')\n",
    "ax[2].hist(X_test.mean(axis=0), bins=50, color='b', alpha=.5)\n",
    "ax[2].set_title('Test set average feature values')\n",
    "fig.tight_layout()"
   ]
  },
  {
   "cell_type": "markdown",
   "metadata": {},
   "source": [
    "It's possible to see that the data is already normalized, all features have maximum value one and minimum value zero (minmax normalization). Some pixels have only zero values, such as pixel 0.\n",
    "In general, we apply the normalization in different datasets from info gained only in training set. In the case of minmax normalization, it's necessary to calculate the maximum and the minimum values (taken from training data). The training, validation and test datasets are then normalized, where each entry $x$ is updated to $x = \\frac{x-min(f_x)}{max(f_x)-min(f_x)}$, where $f_x$ is the feature where x entry belongs. Because the *min* and *max* values are taken from the training data, after this normalization its minimum and maximum value naturally becomes 0 and 1 respectively. However, applying this same values to the validaiton and test sets, their min and max values probably are not 0 and 1 after normalization.\n",
    "\n",
    "It can be seen however, that all sets have same min and max values of a pixel, which is strange. It's possible that these datasets were normalized independently, which according to Muller's book it's an improperly way to scale data (in page 135(pdf) it's presented an example)."
   ]
  },
  {
   "cell_type": "code",
   "execution_count": 5,
   "metadata": {
    "collapsed": false
   },
   "outputs": [
    {
     "name": "stdout",
     "output_type": "stream",
     "text": [
      "Max and min values of pixel 0 in training set: 0.0/0.0\n",
      "Max and min values of a feature/pixel in training set: 1.0/0.0\n",
      "Max and min values of a feature/pixel in the validation set: 1.0/0.0\n",
      "Max and min values of a feature/pixel in the test set: 1.0/0.0\n"
     ]
    }
   ],
   "source": [
    "print('Max and min values of pixel 0 in training set: {}/{}'.format(np.max(X_train[:,0]), np.min(X_train[:,0])))\n",
    "print('Max and min values of a feature/pixel in training set: {}/{}'.format(np.max(X_train[:,300]), np.min(X_train[:,300])))\n",
    "print('Max and min values of a feature/pixel in the validation set: {}/{}'.format(np.max(X_val[:,300]), np.min(X_val[:,300])))\n",
    "print('Max and min values of a feature/pixel in the test set: {}/{}'.format(np.max(X_test[:,300]), np.min(X_test[:,300])))"
   ]
  },
  {
   "cell_type": "markdown",
   "metadata": {},
   "source": [
    "It's possible to train a neural network with training set and validation set together, even though it's common to have a validaiton set to perform early-stopping or to search for good hyperparameters, for example. It's not allowed however, mainly in this case where we have a standard database, to train including the test set. In a case where we need to implement a model in a real-world scenario though, we could include the test set, after its use in the evaluation."
   ]
  },
  {
   "cell_type": "code",
   "execution_count": 6,
   "metadata": {
    "collapsed": false
   },
   "outputs": [
    {
     "name": "stdout",
     "output_type": "stream",
     "text": [
      "Inputs shape of training data:  (55000, 784)\n",
      "Outputs shape of training data:  (55000,)\n",
      "# inputs:  784\n",
      "# outputs:  10\n",
      "# instances:  55000\n"
     ]
    }
   ],
   "source": [
    "train_plus_val = False\n",
    "if train_plus_val:\n",
    "    X_train = np.concatenate((X_train, X_val), axis=0)\n",
    "    y_train = np.concatenate((y_train, y_val), axis=0)\n",
    "\n",
    "#Storing some important values\n",
    "n_inputs = X_train.shape[1]\n",
    "n_outputs = (np.unique(y_train)).size\n",
    "m = X_train.shape[0]\n",
    "print('Inputs shape of training data: ', X_train.shape)\n",
    "print('Outputs shape of training data: ', y_train.shape)\n",
    "print('# inputs: ', n_inputs) # 28*28 = MNIST\n",
    "print('# outputs: ', n_outputs)\n",
    "print('# instances: ', m)"
   ]
  },
  {
   "cell_type": "markdown",
   "metadata": {},
   "source": [
    "### Mini-batch creation function"
   ]
  },
  {
   "cell_type": "markdown",
   "metadata": {},
   "source": [
    "In stochastic gradient descent it's necessary to provide stochastic small batches of examples so that the algorithm updates more often and eventually converges faster. The function returns a mini-batch when its called using two approaches.\n",
    "\n",
    "- In the 1st approach random indices from dataset are selected to be inside the mini-batch using a randomized seed, which is the number of the training iteration (epoch*n_batches + batch_index). In this case, one epoch does not pass through all the different examples.\n",
    "- In the 2nd approach a random permutation of the examples is passed and a slice of this permutation is used as mini-batch. In this case all the examples are used in one epoch, thus it's a better approach. A random permutation of the examples is necessary to be computed once per epoch oustide the iteration over the batches."
   ]
  },
  {
   "cell_type": "code",
   "execution_count": 7,
   "metadata": {
    "collapsed": true
   },
   "outputs": [],
   "source": [
    "def fetch_batch(epoch, batch_index, batch_size, idxs, Xs, ys, approach=2):\n",
    "    \"\"\"Returns the mini-batch (X, y) for a training step.\n",
    "\n",
    "    Parameters\n",
    "    ----------\n",
    "    epoch : int\n",
    "        Number of epoch.\n",
    "    batch_index : int\n",
    "        Number of batch inside the epoch.\n",
    "    batch_size : int\n",
    "        Batch size.\n",
    "    idxs : list of int\n",
    "        Permutation of training set indices.\n",
    "    approach: int, optional\n",
    "        Approach used for chosing the mini-batches. \n",
    "    Returns\n",
    "    -------\n",
    "    X_batch : np.ndarray\n",
    "        Mini-batch of inputs.\n",
    "    y_batch : np.ndarray\n",
    "        Mini-batch of outputs.\n",
    "    \"\"\"\n",
    "    \n",
    "    if approach == 1:\n",
    "        # 1st approach: in this approach random indices from dataset are selected to be inside the mini-batch using a\n",
    "        #randomized seed, which is the number of the training iteration. In this case, one epoch probably does\n",
    "        #not have all the different examples.\n",
    "        rnd.seed(epoch * n_batches + batch_index)\n",
    "        indices = rnd.randint(m, size=batch_size)\n",
    "    elif approach == 2:\n",
    "        # 2nd approach: in this approach a random permutation of the examples is passed and a slice of this permutation\n",
    "        #is used as mini-batch.\n",
    "        indices = idxs[batch_index * batch_size: (batch_index + 1) * batch_size]\n",
    "    \n",
    "    X_batch = Xs[indices]\n",
    "    y_batch = ys[indices]\n",
    "    \n",
    "    return X_batch, y_batch"
   ]
  },
  {
   "cell_type": "markdown",
   "metadata": {},
   "source": [
    "### Neural networks layer creation function"
   ]
  },
  {
   "cell_type": "markdown",
   "metadata": {},
   "source": [
    "It's good to have a function that manually creates the archictecure of a neural network. In this way, it's possible to create structures that are not fully connected. Below, it's implemented a function that creates a canonical feedforward network. The function creates each layer at a time, and not the fully structure. The weights are initialized using common method found in literature to speed up convergence and avoid saturation in early stages of learning."
   ]
  },
  {
   "cell_type": "code",
   "execution_count": 8,
   "metadata": {
    "collapsed": false
   },
   "outputs": [],
   "source": [
    "def neuron_layer(X, n_neurons, name, activation=None):\n",
    "    \"\"\"Manually creates the layers of the neural network.\n",
    "\n",
    "    Parameters\n",
    "    ----------\n",
    "    X : np.ndarray\n",
    "        Input values of the layer (m_batch, n_inputs).\n",
    "    n_neurons : int\n",
    "        Number of neurons in the layer.\n",
    "    name : string\n",
    "        Scope name of the layer.\n",
    "    activation : string\n",
    "        Type of activation function.\n",
    "    Returns\n",
    "    -------\n",
    "    z : np.ndarray\n",
    "        The output of the layer.\n",
    "    \"\"\"\n",
    "    with tf.name_scope(name):\n",
    "        n_inputs = int(X.get_shape()[1])\n",
    "        stddev = 2 / np.sqrt(n_inputs) # good strategy to initialize the NN's weights.\n",
    "        init = tf.truncated_normal((n_inputs, n_neurons), stddev=stddev, seed = 0) # using truncated distribution we avoid\n",
    "        #values whose magnitude is more than 2 standard deviations (95%) from the mean, which is zero (these values are\n",
    "        #dropped and re-picked). It helps with convergence speed.\n",
    "        W = tf.Variable(init, name=\"weights\")\n",
    "        b = tf.Variable(tf.zeros([n_neurons]), name=\"biases\")\n",
    "        z = tf.matmul(X, W) + b #If m_match > 1 tf.matmul(X, W) is a matrix; b i summed to all of its columns.\n",
    "        \n",
    "        if activation==\"relu\":\n",
    "            return tf.nn.relu(z)\n",
    "        elif activation==\"sigmoid\":\n",
    "            return tf.nn.sigmoid\n",
    "        elif activation==\"tanh\":\n",
    "            return tf.nn.tanh\n",
    "        else:\n",
    "            return z"
   ]
  },
  {
   "cell_type": "markdown",
   "metadata": {},
   "source": [
    "### Neural networks training"
   ]
  },
  {
   "cell_type": "markdown",
   "metadata": {},
   "source": [
    "Below, some of the paramters related to training can be set."
   ]
  },
  {
   "cell_type": "code",
   "execution_count": 9,
   "metadata": {
    "collapsed": false
   },
   "outputs": [],
   "source": [
    "#SGD parameters:\n",
    "n_epochs = 500\n",
    "learning_rate = 0.01\n",
    "batch_size = 50\n",
    "n_batches = int(np.ceil(m / batch_size))\n",
    "\n",
    "#Early-stopping:\n",
    "early_stopping = True #enable early stopping.\n",
    "early_stopping_step = 1 #steps in the number of epochs stopping must be checked.\n",
    "min_val_error = float(\"inf\") #stores the best error so far.\n",
    "min_val_error_epoch = 0 #epoch when minimum validation error was found.\n",
    "n_it = 2*batch_size #maximum number of iterations without improvement in validation error.\n",
    "imp_counter = 0 #counts the umber of iterations there is no improvement in the validation error.\n",
    "stop_learning = False #enable stop learning after 'n_it' iterations of no improvement in validation error. If 'False', all\n",
    "#epochs are runned, but the model which least validation error is returned.\n",
    "\n",
    "#Monitoring:\n",
    "prt = True # enable printing training statistics.\n",
    "print_step = 100 # number of epochs to periodically print training statistics.\n",
    "\n",
    "#Logging:\n",
    "log = True # enable logging accuracy values.\n",
    "log_step = 1\n",
    "val_error_list = []\n",
    "train_error_list = []\n",
    "test_error_list = []\n",
    "\n",
    "#Neural networks layers:\n",
    "manual_layers = True #manually creates the layers using 'neural_layer' function.\n",
    "tf_batch = fetch_batch # use implemented TF function to load mini-batches.\n",
    "#for MNIST: tf_batch = mnist.train.next_batch(batch_size)\n",
    "n_hidden1 = 300\n",
    "n_hidden2 = 100\n",
    "#Obs.: the archictecture of the layer must be constructed inside the 'CONSTRUCTION PHASE' of the nn graph.\n",
    "\n",
    "#Save/restore:\n",
    "restore = False # restore old model\n",
    "save_ckpt = False # save chackpoints\n",
    "saver_step = 100 # number of epochs to periodically save model's checkpoint.\n",
    "path_restore = '/tmp/finals/my_model_final.ckpt'\n",
    "\n",
    "#Tensorboard:\n",
    "tb = False # log training statistics for tensorboard.\n",
    "root_logdir = \"tf_logs\"\n",
    "tensorboard_step = 100 # number of epochs to periodically log statistics in tensorboard log files."
   ]
  },
  {
   "cell_type": "markdown",
   "metadata": {},
   "source": [
    "### Weights initialization, activation functions and batch-normalization\n",
    "\n",
    "It's important to emphasize the parameters of the main funciton used in this code, tf.layers.dense():\n",
    "\n",
    "dense(inputs,\n",
    "    units,\n",
    "    activation=None,\n",
    "    use_bias=True,\n",
    "    kernel_initializer=None,\n",
    "    bias_initializer=tf.zeros_initializer(),\n",
    "    kernel_regularizer=None,\n",
    "    bias_regularizer=None,\n",
    "    activity_regularizer=None,\n",
    "    trainable=True,\n",
    "    name=None,\n",
    "    reuse=None)\n",
    "        \n",
    "    inputs: Tensor input.\n",
    "    units: Integer or Long, dimensionality of the output space.\n",
    "    activation: Activation function (callable). Set it to None to maintain a linear activation.\n",
    "    use_bias: Boolean, whether the layer uses a bias.\n",
    "    kernel_initializer: Initializer function for the weight matrix.\n",
    "    bias_initializer: Initializer function for the bias.\n",
    "    kernel_regularizer: Regularizer function for the weight matrix.\n",
    "    bias_regularizer: Regularizer function for the bias.\n",
    "    activity_regularizer: Regularizer function for the output.\n",
    "    trainable: Boolean, if True also add variables to the graph collection GraphKeys.TRAINABLE_VARIABLES (see tf.Variable).\n",
    "    name: String, the name of the layer.\n",
    "    reuse: Boolean, whether to reuse the weights of a previous layer by the same name.\n",
    "    \n",
    "Some remarkable notes are needed:\n",
    "\n",
    "* By changing the activation function of a layer, the best initialization strategy also changes; below we have some good initialization strategies for the most common functions.\n",
    "\n",
    "        * Sigmoid: Xavier initialization\n",
    "        Implementation:\n",
    "        #Using tf.contrib:\n",
    "        >> xavier_init = tf.contrib.layers.xavier_initializer()\n",
    "        >> kernel_initializer = xavier_init\n",
    "        #Using manual code: (TF uses the uniform code below as xavier initialization)\n",
    "        >> low = -np.sqrt(6.0/(fan_in + fan_out)) # use 4 for sigmoid, 1 for tanh activation \n",
    "        >> high = np.sqrt(6.0/(fan_in + fan_out))\n",
    "        >> init = tf.random_uniform(shape=(n_inputs, n_neurons), minval=low, maxval=high, dtype=tf.float32, seed=0)\n",
    "        #or\n",
    "        >> stddev = np.sqrt(2.0/(fan_in + fan_out))\n",
    "        >> init = tf.truncated_normal(shape=(n_inputs, n_neurons), stddev=stddev, mean=0, dtype=tf.float32, seed=0)\n",
    "        \n",
    "        * Hyperbolic tangent\n",
    "        Implementation:\n",
    "        #Using manual code:\n",
    "        >> low = -4*np.sqrt(6.0/(fan_in + fan_out)) # use 4 for sigmoid, 1 for tanh activation \n",
    "        >> high = 4*np.sqrt(6.0/(fan_in + fan_out))\n",
    "        >> init = tf.random_uniform(shape=(n_inputs, n_neurons), minval=low, maxval=high, dtype=tf.float32, seed=0)\n",
    "        #or\n",
    "        >> stddev = 4*np.sqrt(2.0/(fan_in + fan_out))\n",
    "        >> init = tf.truncated_normal(shape=(n_inputs, n_neurons), stddev=stddev, mean=0, dtype=tf.float32, seed=0)\n",
    "        \n",
    "        * ReLu: He initialization\n",
    "        Implementation:\n",
    "        #Using tf.contrib:\n",
    "        >> he_init = tf.contrib.layers.variance_scaling_initializer(mode=\"FAN_AVG\") #to consider both fan_int and fan_out.\n",
    "        >> kernel_initializer = he_init\n",
    "        #Using manual code:\n",
    "        >> low = -np.sqrt(2.0)*np.sqrt(6.0/(fan_in + fan_out)) # use 4 for sigmoid, 1 for tanh activation \n",
    "        >> high = np.sqrt(2.0)*np.sqrt(6.0/(fan_in + fan_out))\n",
    "        >> init = tf.random_uniform(shape=(n_inputs, n_neurons), minval=low, maxval=high, dtype=tf.float32, seed=0)\n",
    "        #or\n",
    "        >> stddev = np.sqrt(2.0)*np.sqrt(2.0/(fan_in + fan_out))\n",
    "        >> init = tf.truncated_normal(shape=(n_inputs, n_neurons), stddev=stddev, mean=0, dtype=tf.float32, seed=0)\n",
    "        \n",
    "* The ReLu function should be your primary choice of 'common' activation functions, it's faster to evaluate than sigmoids and hyp-tangent and does not saturatefor positive values. However, we may experience the *dying ReLUs* phenomena, wher most neurons are dead (output zero) and cannot back to life. To avoid this problem other ReLU activation variants exist:\n",
    "\n",
    "        * Leaky Relu: lr = max(alpha*z, z) \n",
    "        Alpha controls the slope of the function for z < 0 and it's tipically set to 0.01. But a recent paper *Empirical Evaluation of Rectified Activations in Convolution Network* found that a bigger leaky parameters of 0.2 (or 0.18) is consistently better.\n",
    "        Implementation:\n",
    "        >> def leaky_relu_function(z, alpha=0.2, name=None)\n",
    "        >>    return np.maximum(alpha*z, z, name=name)\n",
    "        >> hidden1 = tf.layers.dense(X, n_hidden1, activation=leaky_relu_function)\n",
    "        \n",
    "        * Randomized Leaky Relu (RReLU): rlr = max(alpha*z, z), alpha is randomly chosen.\n",
    "        - During training (for example, for each epoch) alpha is chosen randomly using a uniform distribution U(low, high), such as U(1/8, 1/3).\n",
    "        - During testing we chose an alpha of a_test = (low+high)/2\n",
    "        - RReLu act as a regularizer.\n",
    "        Implementation (training):\n",
    "        >> def random_leaky_relu_function(z, min, max, name=None)\n",
    "        >> assert((min<1) and (max<1))\n",
    "        >> alpha = tf.random_uniform(shape=(1, 1), minval=min, maxval=max, dtype=tf.float32, seed=0)\n",
    "        >>    return np.maximum(alpha*z, z, name=name)\n",
    "        >> hidden1 = tf.layers.dense(X, n_hidden1, activation=random_leaky_relu_function) \n",
    "        \n",
    "        * Exponential Linear Unit (ELU): if z < 0: f = alpha*(exp(z) - 1); if z >= 0: f = z.\n",
    "        - alpha controls where f approaches when z becomes -inf. It's usually set to one.\n",
    "        - has faster convergence rate than any other relu variants, however it's slower to compute.\n",
    "        Implementation:\n",
    "        >> act = tf.nn.elu\n",
    "        >> hidden1 = tf.layers.dense(X, n_hidden1, activation_fn=act) #alpha = 1\n",
    "        #or\n",
    "        >> def elu_function(z, alpha=1):\n",
    "        >>    return np.where(z<0, alpha*(np.exp(z)-1), z)\n",
    "        >> hidden1 = tf.layers.dense(X, n_hidden1, activation=elu_fuction)\n",
    "        \n",
    "* Trials order of the activation functions: ELU > leaky ReLU (and its variants) > ReLU > tanh > logistic. If you're suffering from regularization problems, try RReLU; if evaluation should be fast use leaky ReLU instead of ELU. When using these ReLU variants, the initialization parameter should be He init.\n",
    "\n",
    "* Vanishing/exploding gradients problem still can occur during training even with the recommended choices of initialization and activation functions. To avoid this we could use batch-normalization.\n",
    "        * It makes the networks converge much faster.\n",
    "        * It makes the net more robust to the weight initialization.\n",
    "        * It makes possible to use larger learning rates.\n",
    "        * It acts as a regularizer, reducing the need of other techniques.\n",
    "        * It removes the need for normalizing the input data.\n",
    "        * It's slower to evaluate.\n",
    "        * The implementation of this technique is a bit complex, so it's passed to a new *Code* cell (read the comments to understand the batch-normalization implementation."
   ]
  },
  {
   "cell_type": "code",
   "execution_count": 14,
   "metadata": {
    "collapsed": false
   },
   "outputs": [
    {
     "name": "stdout",
     "output_type": "stream",
     "text": [
      "0 Train accuracy: 0.73 Test accuracy: 0.7354\n",
      "1 Train accuracy: 0.835 Test accuracy: 0.8128\n",
      "2 Train accuracy: 0.79 Test accuracy: 0.8413\n",
      "3 Train accuracy: 0.825 Test accuracy: 0.8582\n",
      "4 Train accuracy: 0.81 Test accuracy: 0.8663\n",
      "5 Train accuracy: 0.865 Test accuracy: 0.8743\n",
      "6 Train accuracy: 0.85 Test accuracy: 0.8812\n",
      "7 Train accuracy: 0.845 Test accuracy: 0.8869\n",
      "8 Train accuracy: 0.89 Test accuracy: 0.8918\n",
      "9 Train accuracy: 0.915 Test accuracy: 0.8947\n",
      "10 Train accuracy: 0.93 Test accuracy: 0.8973\n",
      "11 Train accuracy: 0.875 Test accuracy: 0.902\n",
      "12 Train accuracy: 0.905 Test accuracy: 0.9053\n",
      "13 Train accuracy: 0.865 Test accuracy: 0.9076\n",
      "14 Train accuracy: 0.91 Test accuracy: 0.9092\n",
      "15 Train accuracy: 0.955 Test accuracy: 0.9112\n",
      "16 Train accuracy: 0.89 Test accuracy: 0.912\n",
      "17 Train accuracy: 0.915 Test accuracy: 0.9163\n",
      "18 Train accuracy: 0.885 Test accuracy: 0.9182\n",
      "19 Train accuracy: 0.9 Test accuracy: 0.9181\n",
      "20 Train accuracy: 0.885 Test accuracy: 0.9213\n"
     ]
    }
   ],
   "source": [
    "# Example of implementation of batch_normalization using TF:\n",
    "from functools import partial\n",
    "run_example = True\n",
    "if run_example:\n",
    "    tf.reset_default_graph()\n",
    "    \n",
    "    n_epochs = 20\n",
    "    batch_size = 100\n",
    "    n_inputs = 28 * 28  # MNIST\n",
    "    n_hidden1 = 300\n",
    "    n_hidden2 = 100\n",
    "    n_outputs = 10\n",
    "    learning_rate = 0.01\n",
    "    \n",
    "    #CONSTRUCTION PHASE\n",
    "    \n",
    "    X = tf.placeholder(tf.float32, shape=(None, n_inputs), name=\"X\")\n",
    "    y = tf.placeholder(tf.int64, shape=(None), name=\"y\")\n",
    "    is_training = tf.placeholder(tf.bool, shape=(), name='is_training')  #This will be used to tell the\n",
    "    #batch_norm() function whether it should use the current mini-batch’s mean and standard deviation\n",
    "    #(during training) or the running averages that it keeps track of (during testing).\n",
    "\n",
    "    with tf.name_scope(\"dnn\"):\n",
    "        he_init = tf.contrib.layers.variance_scaling_initializer() #he initialization.\n",
    "        \n",
    "        #'partial' makes a new version of a function with one or more arguments already filled in.\n",
    "        my_batch_norm_layer = partial( \n",
    "                tf.layers.batch_normalization,\n",
    "                training=is_training,\n",
    "                momentum=0.9) #The algorithm uses exponential decay\n",
    "                #to compute the running averages, which is why it requires the decay parameters. Given a new value\n",
    "                #v, the running average vhat is updated through the equation vhat = vhat*decay + v*(1-decay). A good\n",
    "                #decay value is typically close to 1 — for example, 0.9, 0.99, or 0.999 (you want more 9s for larger\n",
    "                #datasets and smaller mini-batches: which means that the batch contributes less to the overall value).\n",
    "                #In the code, decay is called 'momentum', that's not related to the momentum optimizer.\n",
    "        \n",
    "        my_dense_layer = partial(\n",
    "                tf.layers.dense,\n",
    "                kernel_initializer=he_init)\n",
    "        \n",
    "        hidden1 = my_dense_layer(X, n_hidden1, name=\"hidden1\")\n",
    "        bn1 = tf.nn.elu(my_batch_norm_layer(hidden1))\n",
    "        hidden2 = my_dense_layer(bn1, n_hidden2, name=\"hidden2\")\n",
    "        bn2 = tf.nn.elu(my_batch_norm_layer(hidden2))\n",
    "        logits_before_bn = my_dense_layer(bn2, n_outputs, activation=None, name=\"outputs\")\n",
    "        logits = my_batch_norm_layer(logits_before_bn)\n",
    "        extra_update_ops = tf.get_collection(tf.GraphKeys.UPDATE_OPS) #the update operations needed by batch\n",
    "        #normalization are added to the UPDATE_OPS collection and you need to explicity run these operations during training.\n",
    "        #This extra update makes the  tf.layers.batch_normalization function updates\n",
    "        #the running averages right before it performs batch normalization during training.\n",
    "        \n",
    "    with tf.name_scope(\"loss\"):\n",
    "        xentropy = tf.nn.sparse_softmax_cross_entropy_with_logits(labels=y, logits=logits)\n",
    "        loss = tf.reduce_mean(xentropy, name=\"loss\")\n",
    "\n",
    "    with tf.name_scope(\"train\"):\n",
    "        optimizer = tf.train.GradientDescentOptimizer(learning_rate)\n",
    "        training_op = optimizer.minimize(loss)\n",
    "\n",
    "    with tf.name_scope(\"eval\"):\n",
    "        correct = tf.nn.in_top_k(logits, y, 1)\n",
    "        accuracy = tf.reduce_mean(tf.cast(correct, tf.float32))\n",
    "\n",
    "    init = tf.global_variables_initializer()\n",
    "    saver = tf.train.Saver()\n",
    "    \n",
    "    #EXECUTION PHASE\n",
    "    \n",
    "    n_epochs = 20\n",
    "    batch_size = 200\n",
    "\n",
    "    with tf.Session() as sess:\n",
    "        init.run()\n",
    "        for epoch in range(n_epochs+1):\n",
    "            for iteration in range(len(mnist.test.labels)//batch_size):\n",
    "                X_batch, y_batch = mnist.train.next_batch(batch_size)\n",
    "                sess.run([training_op, extra_update_ops], feed_dict={is_training: True, X: X_batch, y: y_batch})\n",
    "                #Note above that since we are using `tf.layers.batch_normalization()`, \n",
    "                #we need to explicitly run the extra update operations needed by batch normalization.\n",
    "            acc_train = accuracy.eval(feed_dict={is_training: False, X: X_batch, y: y_batch})\n",
    "            acc_test = accuracy.eval(feed_dict={is_training: False, X: mnist.test.images, y: mnist.test.labels})\n",
    "            print(epoch, \"Train accuracy:\", acc_train, \"Test accuracy:\", acc_test)\n",
    "\n",
    "        #save_path = saver.save(sess, \"my_model_final.ckpt\")"
   ]
  },
  {
   "cell_type": "markdown",
   "metadata": {},
   "source": [
    "### Gradient Clipping\n",
    "\n",
    "* Below there is a implementation of the gradient clipping procedure, where we limit the gradients to avoid explosive grad problem. Most used in RNN.\n",
    "\n",
    "* optimizer.minimize() computes and also epply the gradients. For grad clipping, it's necessary to compute frist, apply yo the the gards the clipping and then apply.\n",
    "\n",
    "* Gradient clipping is not used when batch normalization is applied."
   ]
  },
  {
   "cell_type": "code",
   "execution_count": 15,
   "metadata": {
    "collapsed": true
   },
   "outputs": [],
   "source": [
    "if False: #never runs\n",
    "    threshold = 1.0 #hyperparameter\n",
    "    optimizer = tf.train.GradientDescentOptimizer(learning_rate)\n",
    "    grads_and_vars = optimizer.compute_gradients(loss)\n",
    "    capped_gvs = [(tf.clip_by_value(grad, -threshold, threshold), var) for grad, var in grads_and_vars]\n",
    "    training_op = optimizer.apply_gradients(capped_gvs)"
   ]
  },
  {
   "cell_type": "markdown",
   "metadata": {},
   "source": [
    "## State of the Art Implementation of Neural Networks\n",
    "\n",
    "Effectively running the MNIST with optimized implementation using TF, including:\n",
    "- Specialized weight initialization.\n",
    "- Novel activation functions.\n",
    "- Batch-normalization.\n",
    "- Regularization.\n",
    "- Efficient Optimizers"
   ]
  },
  {
   "cell_type": "code",
   "execution_count": 37,
   "metadata": {
    "collapsed": false
   },
   "outputs": [
    {
     "name": "stdout",
     "output_type": "stream",
     "text": [
      "Epoch 0 Training accuracy: 0.908033 Validation accuracy: 0.9216\n",
      "Epoch 100 Training accuracy: 0.999883 Validation accuracy: 0.9998\n",
      "Epoch 200 Training accuracy: 1.0 Validation accuracy: 1.0\n",
      "Epoch 300 Training accuracy: 1.0 Validation accuracy: 1.0\n",
      "Epoch 400 Training accuracy: 1.0 Validation accuracy: 1.0\n",
      "Epoch 500 Training accuracy: 1.0 Validation accuracy: 1.0\n",
      "Epoch 500 with minimum validation error 0.0.\n",
      "Best model saved as: ./tmp/best_model-20170814205245.ckpt\n",
      "Training time: 2603.517 seconds\n"
     ]
    }
   ],
   "source": [
    "tf.reset_default_graph() #restoring the default graph.\n",
    "tf.logging.set_verbosity(tf.logging.WARN) #supress TF logging messages when saving ckpt files.\n",
    "start_time = time.time()\n",
    "now = datetime.utcnow().strftime(\"%Y%m%d%H%M%S\")\n",
    "logdir = \"{}/run-{}/\".format(root_logdir, now) #relative path of tensorboard logs for a particular run (current time\n",
    "#is used so that each folder has different running stats, comparision between them can be made inside tensorboard).\n",
    "\n",
    "# TF CONSTRUCTION PHASE\n",
    "\n",
    "# 1- Creating variables, placeholders and constants.\n",
    "X = tf.placeholder(tf.float32, shape=(None, n_inputs), name=\"X\")\n",
    "y = tf.placeholder(tf.int64, shape=(None), name=\"y\")\n",
    "\n",
    "# 2- Creating the operations.\n",
    "with tf.name_scope(\"dnn\"):\n",
    "    if manual_layers:\n",
    "        hidden1 = neuron_layer(X, n_hidden1, \"hidden1\", activation=\"relu\")\n",
    "        hidden2 = neuron_layer(hidden1, n_hidden2, \"hidden2\", activation=\"relu\")\n",
    "        logits = neuron_layer(hidden2, n_outputs, \"output\") # the final layer returns the logits only.\n",
    "        softmax = tf.nn.softmax(logits, name=\"softmax\")\n",
    "    else:\n",
    "        hidden1 = tf.layers.dense(X, n_hidden1, name=\"hidden1\", activation=tf.nn.)\n",
    "        hidden2 = tf.layers.dense(hidden1, n_hidden2, name=\"hidden2\", activation=tf.nn.relu)\n",
    "        logits = tf.layers.dense(hidden2, n_outputs, name=\"outputs\")\n",
    "        softmax = tf.nn.softmax(logits, name=\"softmax\")\n",
    "\n",
    "with tf.name_scope(\"loss\"):\n",
    "    xentropy = tf.nn.sparse_softmax_cross_entropy_with_logits(labels=y, logits=logits) #this computes the cross entropy based \n",
    "    #directly on the logits of the output layer: it expects integer labels (from 0 to n_outputs-1). This returns the cross-entropy\n",
    "    #scalar value for each instance.\n",
    "    #Use 'softmax_cross_entropy_with_logits()' if the labels are in the form of one-hot vectors.\n",
    "    loss = tf.reduce_mean(xentropy, name=\"loss\") #computes the mean over the mini_batch.\n",
    "    \n",
    "with tf.name_scope(\"train\"):\n",
    "    optimizer = tf.train.GradientDescentOptimizer(learning_rate)\n",
    "    training_op = optimizer.minimize(loss)\n",
    "\n",
    "with tf.name_scope(\"eval\"):\n",
    "    correct = tf.nn.in_top_k(logits, y, 1) #returns boolean == True if the output y is in the first k highest probabilities.  \n",
    "    accuracy = tf.reduce_mean(tf.cast(correct, tf.float32)) #computes the accuracy.\n",
    "\n",
    "# 3- Node that initialize the variables.\n",
    "init = tf.global_variables_initializer()\n",
    "\n",
    "# 4- Creating the saver.\n",
    "saver_save = tf.train.Saver(max_to_keep=None) #save all variable values.\n",
    "if restore:\n",
    "    saver_restore = tf.train.Saver() #restore all variable values.\n",
    "    #saver_restore = tf.train.Saver({\"weights\": theta}) #restore only the old theta variable under the name of 'weights'.\n",
    "\n",
    "# 5- Tensorboard definitions:\n",
    "if tb:\n",
    "    accuracy_summary = tf.summary.scalar('ACC', accuracy) # Creates a node in the graph that will evaluate the ACC value\n",
    "    #and write it to a TensorBoard-compatible binary log string called a summary.\n",
    "    summary_writer = tf.summary.FileWriter(logdir, tf.get_default_graph()) # Creates a FileWriter that you will\n",
    "    #use to write summaries to logfiles in the log directory.\n",
    "\n",
    "# TF EXECUTION PHASE:\n",
    "\n",
    "with tf.Session() as sess:\n",
    "    \n",
    "    # To restore a model the construction phase must be identical than the one used to save it. \n",
    "    if restore:\n",
    "        saver_restore.restore(sess, path_restore)\n",
    "    else:\n",
    "        sess.run(init) # Initializing the variables.\n",
    "    \n",
    "    breaker = False\n",
    "    for epoch in range(n_epochs+1): # for each epoch..\n",
    "        \n",
    "        idXs = np.random.permutation(range(m))\n",
    "        \n",
    "        for batch_index in range(n_batches-1): # for each mini-batch..\n",
    "            X_batch, y_batch = tf_batch(epoch, batch_index, batch_size, idXs, X_train, y_train)\n",
    "            #Training step:\n",
    "            sess.run(training_op, feed_dict={X: X_batch, y: y_batch})\n",
    "        \n",
    "        #Early-stopping (we could implement early stopping after each update (iteration), however, it would be too slow):\n",
    "        if (early_stopping) and (epoch % early_stopping_step == 0):\n",
    "            #val_error = loss.eval(feed_dict={X: X_val, y: y_val})\n",
    "            val_error = 1 - accuracy.eval(feed_dict={X: X_val, y: y_val})\n",
    "            imp_counter = imp_counter + 1 \n",
    "            if val_error <= min_val_error:\n",
    "                min_val_error = val_error\n",
    "                min_val_error_epoch = epoch\n",
    "                save_path = saver_save.save(sess, \"./tmp/best_model-{}.ckpt\".format(now))\n",
    "                imp_counter = 0\n",
    "            elif (stop_learning) and (imp_counter >= n_it):\n",
    "                breaker = True\n",
    "                break\n",
    "        if breaker:\n",
    "            break \n",
    "        \n",
    "        if (log) and (epoch % log_step == 0):\n",
    "            acc_train = accuracy.eval(feed_dict={X: X_train, y: y_train})\n",
    "            acc_val = accuracy.eval(feed_dict={X: X_val, y: y_val})\n",
    "            acc_test = accuracy.eval(feed_dict={X: X_test, y: y_test})\n",
    "            val_error_list.append(acc_val)\n",
    "            train_error_list.append(acc_train)\n",
    "            test_error_list.append(acc_test)\n",
    "        if (prt) and (epoch % print_step == 0):\n",
    "            acc_train = accuracy.eval(feed_dict={X: X_train, y: y_train})\n",
    "            acc_val = accuracy.eval(feed_dict={X: X_val, y: y_val})\n",
    "            print(\"Epoch\", epoch, \"Training accuracy:\", acc_train, \"Validation accuracy:\", acc_val)\n",
    "        if (tb) and (epoch % tensorboard_step == 0):\n",
    "            summary_str = accuracy_summary.eval(feed_dict={X: X_train, y: y_train}) # This will output a summary that\n",
    "            #you can then write to the events file using the file_writer. Here is the updated code:\n",
    "            step = epoch * n_batches + batch_index\n",
    "            summary_writer.add_summary(summary_str, step)\n",
    "        if (save_ckpt) and (epoch % saver_step == 0):\n",
    "            save_path = saver_save.save(sess, \"./tmp/my_model-{}.ckpt\".format(epoch))\n",
    "            \n",
    "    if not (early_stopping):\n",
    "        save_path = saver_save.save(sess, \"./tmp/best_model-{}.ckpt\".format(now))\n",
    "\n",
    "# Flushing and closing FileWriter.          \n",
    "if tb:                            \n",
    "    summary_writer.flush()\n",
    "    summary_writer.close() \n",
    "\n",
    "if early_stopping:\n",
    "    print('Epoch {} with minimum validation error {:.4}.'.format(min_val_error_epoch, min_val_error))\n",
    "best_model_path = \"./tmp/best_model-{}.ckpt\".format(now)\n",
    "print(\"Best model saved as:\", best_model_path)\n",
    "print(\"Training time: %.8s seconds\" % (time.time() - start_time)) "
   ]
  },
  {
   "cell_type": "markdown",
   "metadata": {},
   "source": [
    "#### Logged CPU/GPU times:\n",
    "- NN with MNIST: 1185.27s (~19m)/\n",
    "- NN with MNIST (early stopping): 2083.05s (~35m)/"
   ]
  },
  {
   "cell_type": "markdown",
   "metadata": {},
   "source": [
    "### Using the neural network"
   ]
  },
  {
   "cell_type": "code",
   "execution_count": 38,
   "metadata": {
    "collapsed": false
   },
   "outputs": [
    {
     "name": "stdout",
     "output_type": "stream",
     "text": [
      "Accuracy in the test set of the best model found in the validation set:  0.9798\n"
     ]
    }
   ],
   "source": [
    "saver_restore = tf.train.Saver() \n",
    "with tf.Session() as sess:\n",
    "    saver_restore.restore(sess, best_model_path)\n",
    "    X_test = mnist.test.images  # remember to transform this set if necessary.\n",
    "    Z = logits.eval(feed_dict={X: X_test})\n",
    "    y_prob = softmax.eval(feed_dict={X: X_test})\n",
    "    y_pred = np.argmax(Z, axis=1) #or np.argmax(y_prob, axis=1)\n",
    "    \n",
    "accuracy = accuracy_score(y_test, y_pred)\n",
    "print('Accuracy in the test set of the best model found in the validation set: ', accuracy)"
   ]
  },
  {
   "cell_type": "markdown",
   "metadata": {},
   "source": [
    "In the plot below it's possible to see the performance of the model. Note that one possible, and probably good criteria to stop learning is to monitor the traiing set accuracy. If it became too high (near 1.00, considering a tolerance) we can safely stop learning."
   ]
  },
  {
   "cell_type": "code",
   "execution_count": 39,
   "metadata": {
    "collapsed": false
   },
   "outputs": [
    {
     "data": {
      "image/png": "[encoded data removed]",
      "text/plain": [
       "<matplotlib.figure.Figure at 0x1e9c00aa198>"
      ]
     },
     "metadata": {},
     "output_type": "display_data"
    }
   ],
   "source": [
    "import matplotlib.pyplot as plt\n",
    "%matplotlib inline\n",
    "plt.plot(val_error_list[:100], label='Validation accuracy')\n",
    "plt.plot(train_error_list[:100], label='Train accuracy')\n",
    "plt.plot(test_error_list[:100], label='Test accuracy')\n",
    "plt.legend(loc='best')\n",
    "plt.show()"
   ]
  },
  {
   "cell_type": "markdown",
   "metadata": {
    "collapsed": false
   },
   "source": [
    "### Retraining the neural network"
   ]
  },
  {
   "cell_type": "markdown",
   "metadata": {},
   "source": [
    "One approach to improve network performance it would be train using the training and validation sets until the epoch with best validation error. Experiments must be done to check the variance with respect to the knowledge obtained in the validation set, particularly the epoch.\n",
    "\n",
    "Note that one must not use the test set to choose the least error, this is the purpose of the validation set only. Any choice made on the test set imediatly contaminates it, it looses its reliability of being a proxy of the generalization error.\n",
    "\n",
    "It's not clear if we should renormalize the data after combining the training and validation sets."
   ]
  },
  {
   "cell_type": "code",
   "execution_count": 20,
   "metadata": {
    "collapsed": true
   },
   "outputs": [],
   "source": [
    "X_train = np.concatenate((X_train, X_val), axis=0)\n",
    "y_train = np.concatenate((y_train, y_val), axis=0)"
   ]
  },
  {
   "cell_type": "markdown",
   "metadata": {},
   "source": [
    "To trust in the result gained in the validation set, the network should be trained in the same way, with same parameters. For example, it's desirable to have the same initial weights of the first run. See however, that the mini-batches are unequal considering the 2nd approach."
   ]
  },
  {
   "cell_type": "code",
   "execution_count": 21,
   "metadata": {
    "collapsed": false
   },
   "outputs": [
    {
     "name": "stdout",
     "output_type": "stream",
     "text": [
      "Final model saved as: ./tmp/best_model-20170814184904.ckpt\n",
      "Training time: 358.2318 seconds\n"
     ]
    }
   ],
   "source": [
    "tf.reset_default_graph() #restoring the default graph.\n",
    "tf.logging.set_verbosity(tf.logging.WARN) #supress TF logging messages when saving ckpt files.\n",
    "start_time = time.time()\n",
    "now = datetime.utcnow().strftime(\"%Y%m%d%H%M%S\")\n",
    "logdir = \"{}/run-{}/\".format(root_logdir, now) #relative path of tensorboard logs for a particular run (current time\n",
    "#is used so that each folder has different running stats, comparision between them can be made inside tensorboard).\n",
    "\n",
    "# TF CONSTRUCTION PHASE\n",
    "\n",
    "# 1- Creating variables, placeholders and constants.\n",
    "X = tf.placeholder(tf.float32, shape=(None, n_inputs), name=\"X\")\n",
    "y = tf.placeholder(tf.int64, shape=(None), name=\"y\")\n",
    "\n",
    "# 2- Creating the operations.\n",
    "with tf.name_scope(\"dnn\"):\n",
    "    if manual_layers:\n",
    "        hidden1 = neuron_layer(X, n_hidden1, \"hidden1\", activation=\"relu\")\n",
    "        hidden2 = neuron_layer(hidden1, n_hidden2, \"hidden2\", activation=\"relu\")\n",
    "        logits = neuron_layer(hidden2, n_outputs, \"output\") # the final layer returns the logits only.\n",
    "        softmax = tf.nn.softmax(logits, name=\"softmax\")\n",
    "    else:\n",
    "        hidden1 = tf.layers.dense(X, n_hidden1, name=\"hidden1\", activation=tf.nn.relu)\n",
    "        hidden2 = tf.layers.dense(hidden1, n_hidden2, name=\"hidden2\", activation=tf.nn.relu)\n",
    "        logits = tf.layers.dense(hidden2, n_outputs, name=\"outputs\") #Default 'activation' == None\n",
    "        softmax = tf.nn.softmax(logits, name=\"softmax\")\n",
    "\n",
    "with tf.name_scope(\"loss\"):\n",
    "    xentropy = tf.nn.sparse_softmax_cross_entropy_with_logits(labels=y, logits=logits) #this computes the cross entropy based \n",
    "    #directly on the logits of the output layer: it expects integer labels (from 0 to n_outputs-1). This returns the cross-entropy\n",
    "    #scalar value for each instance.\n",
    "    #Use 'softmax_cross_entropy_with_logits()' if the labels are in the form of one-hot vectors.\n",
    "    loss = tf.reduce_mean(xentropy, name=\"loss\") #computes the mean over the mini_batch.\n",
    "    \n",
    "with tf.name_scope(\"train\"):\n",
    "    optimizer = tf.train.GradientDescentOptimizer(learning_rate)\n",
    "    training_op = optimizer.minimize(loss)\n",
    "\n",
    "with tf.name_scope(\"eval\"):\n",
    "    correct = tf.nn.in_top_k(logits, y, 1) #returns boolean == True if the output y is in the first k highest probabilities.  \n",
    "    accuracy = tf.reduce_mean(tf.cast(correct, tf.float32)) #computes the accuracy.\n",
    "\n",
    "# 3- Node that initialize the variables.\n",
    "init = tf.global_variables_initializer()\n",
    "\n",
    "# 4- Creating the saver.\n",
    "saver_save = tf.train.Saver(max_to_keep=None) #save all variable values.\n",
    "\n",
    "\n",
    "# TF EXECUTION PHASE:\n",
    "\n",
    "with tf.Session() as sess:\n",
    "    \n",
    "    sess.run(init) # Initializing the variables.\n",
    "    \n",
    "    for epoch in range(min_val_error_epoch+50): # for each epoch..\n",
    "        \n",
    "        idXs = np.random.permutation(range(m))\n",
    "        \n",
    "        for batch_index in range(n_batches-1): # for each mini-batch..\n",
    "            X_batch, y_batch = tf_batch(epoch, batch_index, batch_size, idXs, X_train, y_train)\n",
    "            #Training step:\n",
    "            sess.run(training_op, feed_dict={X: X_batch, y: y_batch})\n",
    "            \n",
    "    save_path = saver_save.save(sess, \"./tmp/final_model-{}.ckpt\".format(now))\n",
    "\n",
    "final_model_path = \"./tmp/final_model-{}.ckpt\".format(now)\n",
    "print(\"Final model saved as:\", best_model_path)\n",
    "print(\"Training time: %.8s seconds\" % (time.time() - start_time)) "
   ]
  },
  {
   "cell_type": "code",
   "execution_count": 19,
   "metadata": {
    "collapsed": false
   },
   "outputs": [
    {
     "name": "stdout",
     "output_type": "stream",
     "text": [
      "Accuracy in the test set of the final model retrained in the training and validation sets:  0.978\n"
     ]
    }
   ],
   "source": [
    "saver_restore = tf.train.Saver() \n",
    "with tf.Session() as sess:\n",
    "    saver_restore.restore(sess, final_model_path)\n",
    "    X_test = mnist.test.images  # remember to transform this set if necessary.\n",
    "    Z = logits.eval(feed_dict={X: X_test})\n",
    "    y_prob = softmax.eval(feed_dict={X: X_test})\n",
    "    y_pred = np.argmax(Z, axis=1) #or np.argmax(y_prob, axis=1)\n",
    "    \n",
    "accuracy = accuracy_score(y_test, y_pred)\n",
    "print('Accuracy in the test set of the final model retrained in the training and validation sets: ', accuracy)"
   ]
  },
  {
   "cell_type": "code",
   "execution_count": null,
   "metadata": {
    "collapsed": true
   },
   "outputs": [],
   "source": []
  }
 ],
 "metadata": {
  "anaconda-cloud": {},
  "kernelspec": {
   "display_name": "Python [default]",
   "language": "python",
   "name": "python3"
  },
  "language_info": {
   "codemirror_mode": {
    "name": "ipython",
    "version": 3
   },
   "file_extension": ".py",
   "mimetype": "text/x-python",
   "name": "python",
   "nbconvert_exporter": "python",
   "pygments_lexer": "ipython3",
   "version": "3.5.2"
  }
 },
 "nbformat": 4,
 "nbformat_minor": 2
}
